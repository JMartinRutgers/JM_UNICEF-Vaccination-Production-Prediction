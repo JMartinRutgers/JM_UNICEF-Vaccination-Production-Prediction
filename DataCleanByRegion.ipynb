{
 "cells": [
  {
   "cell_type": "code",
   "execution_count": 9,
   "metadata": {},
   "outputs": [],
   "source": [
    "import pandas as pd\n",
    "import numpy as np"
   ]
  },
  {
   "cell_type": "code",
   "execution_count": 10,
   "metadata": {},
   "outputs": [],
   "source": [
    "allData = pd.read_csv('CSVs/AllData_NoIndex.csv', index_col=0)"
   ]
  },
  {
   "cell_type": "code",
   "execution_count": 15,
   "metadata": {},
   "outputs": [
    {
     "data": {
      "text/plain": [
       "array(['East Asia & Pacific', 'Eastern Europe & Central Asia',\n",
       "       'Eastern & Southern Africa', 'Middle East & North Africa',\n",
       "       'North America', 'West & Central Africa', 'South Asia',\n",
       "       'Western Europe', 'Latin America & Caribbean'], dtype=object)"
      ]
     },
     "execution_count": 15,
     "metadata": {},
     "output_type": "execute_result"
    }
   ],
   "source": [
    "allData.Region.unique()"
   ]
  },
  {
   "cell_type": "code",
   "execution_count": 16,
   "metadata": {},
   "outputs": [
    {
     "ename": "SyntaxError",
     "evalue": "EOL while scanning string literal (<ipython-input-16-0be0a260763c>, line 7)",
     "output_type": "error",
     "traceback": [
      "\u001b[1;36m  File \u001b[1;32m\"<ipython-input-16-0be0a260763c>\"\u001b[1;36m, line \u001b[1;32m7\u001b[0m\n\u001b[1;33m    MiddleEastNorthAfrica=allData[allData[\"Region\"]==\"Middle East & North Africa]\u001b[0m\n\u001b[1;37m                                                                                 ^\u001b[0m\n\u001b[1;31mSyntaxError\u001b[0m\u001b[1;31m:\u001b[0m EOL while scanning string literal\n"
     ]
    }
   ],
   "source": [
    "EastAsiaPacific=allData[allData[\"Region\"]==\"East Asia & Pacific\"]\n",
    "EastAsiaPacific.to_csv(r'CSVs\\EastAsiaPacific.csv')\n",
    "EasternEuropeCentralAsia=allData[allData[\"Region\"]==\"Eastern Europe & Central Asia\"]\n",
    "EasternEuropeCentralAsia.to_csv(r'CSVs\\EasternEuropeCentralAsia.csv')\n",
    "EasternSouthernAfrica=allData[allData[\"Region\"]==\"Eastern & Southern Africa\"]\n",
    "EasternSouthernAfrica.to_csv(r'CSVs\\EasternSouthernAfrica.csv')\n",
    "MiddleEastNorthAfrica=allData[allData[\"Region\"]==\"Middle East & North Africa]\n",
    "MiddleEastNorthAfrica.to_csv(r'CSVs\\MiddleEastNorthAfrica.csv')\n",
    "NorthAmerica =allData[allData[\"Region\"]==\"North America\"]\n",
    "NorthAmerica .to_csv(r'CSVs\\NorthAmerica .csv')\n",
    "WestCentralAfrica =allData[allData[\"Region\"]==\"West & Central Africa\"]\n",
    "WestCentralAfrica .to_csv(r'CSVs\\WestCentralAfrica .csv')\n",
    "SouthAsia=allData[allData[\"Region\"]==\"South Asia\"]\n",
    "SouthAsia.to_csv(r'CSVs\\SouthAsia.csv')\n",
    "WesternEurope =allData[allData[\"Region\"]==\"Western Europe\"]\n",
    "WesternEurope.to_csv(r'CSVs\\WesternEurope .csv')\n",
    "LatinAmericaCaribbean =allData[allData[\"Region\"]==\"Latin America & Caribbean\"]\n",
    "LatinAmericaCaribbean .to_csv(r'CSVs\\LatinAmericaCaribbean .csv')"
   ]
  },
  {
   "cell_type": "code",
   "execution_count": 14,
   "metadata": {},
   "outputs": [
    {
     "data": {
      "text/html": [
       "<div>\n",
       "<style scoped>\n",
       "    .dataframe tbody tr th:only-of-type {\n",
       "        vertical-align: middle;\n",
       "    }\n",
       "\n",
       "    .dataframe tbody tr th {\n",
       "        vertical-align: top;\n",
       "    }\n",
       "\n",
       "    .dataframe thead th {\n",
       "        text-align: right;\n",
       "    }\n",
       "</style>\n",
       "<table border=\"1\" class=\"dataframe\">\n",
       "  <thead>\n",
       "    <tr style=\"text-align: right;\">\n",
       "      <th></th>\n",
       "      <th>Year</th>\n",
       "      <th>Country</th>\n",
       "      <th>Region</th>\n",
       "      <th>Vaccine</th>\n",
       "      <th>Target</th>\n",
       "      <th>Vaccinated</th>\n",
       "      <th>Vaccinations Needed</th>\n",
       "      <th>Coverage</th>\n",
       "    </tr>\n",
       "  </thead>\n",
       "  <tbody>\n",
       "  </tbody>\n",
       "</table>\n",
       "</div>"
      ],
      "text/plain": [
       "Empty DataFrame\n",
       "Columns: [Year, Country, Region, Vaccine, Target, Vaccinated, Vaccinations Needed, Coverage]\n",
       "Index: []"
      ]
     },
     "execution_count": 14,
     "metadata": {},
     "output_type": "execute_result"
    }
   ],
   "source": [
    "WesternEurope"
   ]
  },
  {
   "cell_type": "code",
   "execution_count": null,
   "metadata": {},
   "outputs": [],
   "source": []
  }
 ],
 "metadata": {
  "kernelspec": {
   "display_name": "Python 3",
   "language": "python",
   "name": "python3"
  },
  "language_info": {
   "codemirror_mode": {
    "name": "ipython",
    "version": 3
   },
   "file_extension": ".py",
   "mimetype": "text/x-python",
   "name": "python",
   "nbconvert_exporter": "python",
   "pygments_lexer": "ipython3",
   "version": "3.7.3"
  }
 },
 "nbformat": 4,
 "nbformat_minor": 2
}
