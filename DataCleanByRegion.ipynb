{
 "cells": [
  {
   "cell_type": "code",
   "execution_count": 1,
   "metadata": {},
   "outputs": [],
   "source": [
    "import pandas as pd\n",
    "import numpy as np"
   ]
  },
  {
   "cell_type": "code",
   "execution_count": 2,
   "metadata": {},
   "outputs": [],
   "source": [
    "allData = pd.read_csv('CSVs/allData.csv', index_col=0)"
   ]
  },
  {
   "cell_type": "code",
   "execution_count": 3,
   "metadata": {},
   "outputs": [
    {
     "data": {
      "text/html": [
       "<div>\n",
       "<style scoped>\n",
       "    .dataframe tbody tr th:only-of-type {\n",
       "        vertical-align: middle;\n",
       "    }\n",
       "\n",
       "    .dataframe tbody tr th {\n",
       "        vertical-align: top;\n",
       "    }\n",
       "\n",
       "    .dataframe thead th {\n",
       "        text-align: right;\n",
       "    }\n",
       "</style>\n",
       "<table border=\"1\" class=\"dataframe\">\n",
       "  <thead>\n",
       "    <tr style=\"text-align: right;\">\n",
       "      <th></th>\n",
       "      <th>Year</th>\n",
       "      <th>Country</th>\n",
       "      <th>Region</th>\n",
       "      <th>Vaccine</th>\n",
       "      <th>Target</th>\n",
       "      <th>Vaccinated</th>\n",
       "      <th>Vaccinations Needed</th>\n",
       "      <th>Coverage</th>\n",
       "    </tr>\n",
       "  </thead>\n",
       "  <tbody>\n",
       "    <tr>\n",
       "      <th>0</th>\n",
       "      <td>2018</td>\n",
       "      <td>Australia</td>\n",
       "      <td>East Asia &amp; Pacific</td>\n",
       "      <td>DTP1</td>\n",
       "      <td>317000.0</td>\n",
       "      <td>311000.0</td>\n",
       "      <td>6000.0</td>\n",
       "      <td>98</td>\n",
       "    </tr>\n",
       "    <tr>\n",
       "      <th>1</th>\n",
       "      <td>2018</td>\n",
       "      <td>Australia</td>\n",
       "      <td>East Asia &amp; Pacific</td>\n",
       "      <td>DTP3</td>\n",
       "      <td>317000.0</td>\n",
       "      <td>302000.0</td>\n",
       "      <td>15000.0</td>\n",
       "      <td>95</td>\n",
       "    </tr>\n",
       "    <tr>\n",
       "      <th>2</th>\n",
       "      <td>2018</td>\n",
       "      <td>Australia</td>\n",
       "      <td>East Asia &amp; Pacific</td>\n",
       "      <td>Hepb3</td>\n",
       "      <td>317000.0</td>\n",
       "      <td>302000.0</td>\n",
       "      <td>15000.0</td>\n",
       "      <td>95</td>\n",
       "    </tr>\n",
       "    <tr>\n",
       "      <th>3</th>\n",
       "      <td>2018</td>\n",
       "      <td>Australia</td>\n",
       "      <td>East Asia &amp; Pacific</td>\n",
       "      <td>Hib3</td>\n",
       "      <td>317000.0</td>\n",
       "      <td>298000.0</td>\n",
       "      <td>19000.0</td>\n",
       "      <td>94</td>\n",
       "    </tr>\n",
       "    <tr>\n",
       "      <th>4</th>\n",
       "      <td>2018</td>\n",
       "      <td>Australia</td>\n",
       "      <td>East Asia &amp; Pacific</td>\n",
       "      <td>MCV1</td>\n",
       "      <td>317000.0</td>\n",
       "      <td>302000.0</td>\n",
       "      <td>15000.0</td>\n",
       "      <td>95</td>\n",
       "    </tr>\n",
       "  </tbody>\n",
       "</table>\n",
       "</div>"
      ],
      "text/plain": [
       "   Year    Country               Region Vaccine    Target  Vaccinated  \\\n",
       "0  2018  Australia  East Asia & Pacific    DTP1  317000.0    311000.0   \n",
       "1  2018  Australia  East Asia & Pacific    DTP3  317000.0    302000.0   \n",
       "2  2018  Australia  East Asia & Pacific   Hepb3  317000.0    302000.0   \n",
       "3  2018  Australia  East Asia & Pacific    Hib3  317000.0    298000.0   \n",
       "4  2018  Australia  East Asia & Pacific    MCV1  317000.0    302000.0   \n",
       "\n",
       "   Vaccinations Needed  Coverage  \n",
       "0               6000.0        98  \n",
       "1              15000.0        95  \n",
       "2              15000.0        95  \n",
       "3              19000.0        94  \n",
       "4              15000.0        95  "
      ]
     },
     "execution_count": 3,
     "metadata": {},
     "output_type": "execute_result"
    }
   ],
   "source": [
    "allData.head()"
   ]
  },
  {
   "cell_type": "code",
   "execution_count": 5,
   "metadata": {},
   "outputs": [
    {
     "data": {
      "text/plain": [
       "array(['East Asia & Pacific', 'Eastern Europe & Central Asia',\n",
       "       'Eastern & Southern Africa', 'Middle East & North Africa',\n",
       "       'North America', 'West & Central Africa', 'South Asia',\n",
       "       'Western Europe', 'Latin America & Caribbean'], dtype=object)"
      ]
     },
     "execution_count": 5,
     "metadata": {},
     "output_type": "execute_result"
    }
   ],
   "source": [
    "allData.Region.unique()"
   ]
  },
  {
   "cell_type": "code",
   "execution_count": 6,
   "metadata": {},
   "outputs": [],
   "source": [
    "EastAsiaPacific=allData[allData[\"Region\"]==\"EastAsiaPacific\"]\n",
    "EastAsiaPacific.to_csv(r'CSVs\\EastAsiaPacific.csv')\n",
    "EasternEuropeCentralAsia=allData[allData[\"Region\"]==\"EasternEuropeCentralAsia\"]\n",
    "EasternEuropeCentralAsia.to_csv(r'CSVs\\EasternEuropeCentralAsia.csv')\n",
    "EasternSouthernAfrica=allData[allData[\"Region\"]==\"EasternSouthernAfrica\"]\n",
    "EasternSouthernAfrica.to_csv(r'CSVs\\EasternSouthernAfrica.csv')\n",
    "MiddleEastNorthAfrica=allData[allData[\"Region\"]==\"MiddleEastNorthAfrica\"]\n",
    "MiddleEastNorthAfrica.to_csv(r'CSVs\\MiddleEastNorthAfrica.csv')\n",
    "NorthAmerica =allData[allData[\"Region\"]==\"NorthAmerica \"]\n",
    "NorthAmerica .to_csv(r'CSVs\\NorthAmerica .csv')\n",
    "WestCentralAfrica =allData[allData[\"Region\"]==\"WestCentralAfrica \"]\n",
    "WestCentralAfrica .to_csv(r'CSVs\\WestCentralAfrica .csv')\n",
    "SouthAsia=allData[allData[\"Region\"]==\"SouthAsia\"]\n",
    "SouthAsia.to_csv(r'CSVs\\SouthAsia.csv')\n",
    "WesternEurope =allData[allData[\"Region\"]==\"WesternEurope \"]\n",
    "WesternEurope .to_csv(r'CSVs\\WesternEurope .csv')\n",
    "LatinAmericaCaribbean =allData[allData[\"Region\"]==\"LatinAmericaCaribbean \"]\n",
    "LatinAmericaCaribbean .to_csv(r'CSVs\\LatinAmericaCaribbean .csv')"
   ]
  },
  {
   "cell_type": "code",
   "execution_count": null,
   "metadata": {},
   "outputs": [],
   "source": []
  }
 ],
 "metadata": {
  "kernelspec": {
   "display_name": "Python 3",
   "language": "python",
   "name": "python3"
  },
  "language_info": {
   "codemirror_mode": {
    "name": "ipython",
    "version": 3
   },
   "file_extension": ".py",
   "mimetype": "text/x-python",
   "name": "python",
   "nbconvert_exporter": "python",
   "pygments_lexer": "ipython3",
   "version": "3.7.3"
  }
 },
 "nbformat": 4,
 "nbformat_minor": 2
}
