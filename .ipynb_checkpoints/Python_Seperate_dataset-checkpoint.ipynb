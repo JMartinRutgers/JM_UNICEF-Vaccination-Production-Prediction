{
 "cells": [
  {
   "cell_type": "code",
   "execution_count": 23,
   "metadata": {},
   "outputs": [],
   "source": [
    "import xlrd\n",
    "import csv"
   ]
  },
  {
   "cell_type": "code",
   "execution_count": 24,
   "metadata": {},
   "outputs": [],
   "source": [
    "def csv_from_excel():\n",
    "    wb = xlrd.open_workbook('Immunization-estimates-2018.xlsx')\n",
    "    sh = wb.sheet_by_name('BCG')\n",
    "    BCG = open('BCG.csv', 'w')\n",
    "    wr = csv.writer(BCG, quoting=csv.QUOTE_ALL)\n",
    "\n",
    "    for rownum in range(sh.nrows):\n",
    "        wr.writerow(sh.row_values(rownum))\n",
    "\n",
    "    BCG.close()\n",
    "\n",
    "csv_from_excel()"
   ]
  },
  {
   "cell_type": "code",
   "execution_count": 25,
   "metadata": {},
   "outputs": [],
   "source": [
    "def csv_from_excel():\n",
    "    wb = xlrd.open_workbook('Immunization-estimates-2018.xlsx')\n",
    "    sh = wb.sheet_by_name('DTP1')\n",
    "    DTP1 = open('DTP1.csv', 'w')\n",
    "    wr = csv.writer(DTP1, quoting=csv.QUOTE_ALL)\n",
    "\n",
    "    for rownum in range(sh.nrows):\n",
    "        wr.writerow(sh.row_values(rownum))\n",
    "\n",
    "    DTP1.close()\n",
    "\n",
    "csv_from_excel()"
   ]
  },
  {
   "cell_type": "code",
   "execution_count": 26,
   "metadata": {},
   "outputs": [],
   "source": [
    "def csv_from_excel():\n",
    "    wb = xlrd.open_workbook('Immunization-estimates-2018.xlsx')\n",
    "    sh = wb.sheet_by_name('DTP3')\n",
    "    DTP3 = open('DTP3.csv', 'w')\n",
    "    wr = csv.writer(DTP3, quoting=csv.QUOTE_ALL)\n",
    "\n",
    "    for rownum in range(sh.nrows):\n",
    "        wr.writerow(sh.row_values(rownum))\n",
    "\n",
    "    DTP3.close()\n",
    "\n",
    "csv_from_excel()"
   ]
  },
  {
   "cell_type": "code",
   "execution_count": 27,
   "metadata": {},
   "outputs": [],
   "source": [
    "def csv_from_excel():\n",
    "    wb = xlrd.open_workbook('Immunization-estimates-2018.xlsx')\n",
    "    sh = wb.sheet_by_name('HEPB3')\n",
    "    HEPB3 = open('HEPB3.csv', 'w')\n",
    "    wr = csv.writer(HEPB3, quoting=csv.QUOTE_ALL)\n",
    "\n",
    "    for rownum in range(sh.nrows):\n",
    "        wr.writerow(sh.row_values(rownum))\n",
    "\n",
    "    HEPB3.close()\n",
    "\n",
    "csv_from_excel()"
   ]
  },
  {
   "cell_type": "code",
   "execution_count": 28,
   "metadata": {},
   "outputs": [],
   "source": [
    "def csv_from_excel():\n",
    "    wb = xlrd.open_workbook('Immunization-estimates-2018.xlsx')\n",
    "    sh = wb.sheet_by_name('HEPBB')\n",
    "    HEPBB = open('HEPBB.csv', 'w')\n",
    "    wr = csv.writer(HEPBB, quoting=csv.QUOTE_ALL)\n",
    "\n",
    "    for rownum in range(sh.nrows):\n",
    "        wr.writerow(sh.row_values(rownum))\n",
    "\n",
    "    HEPBB.close()\n",
    "\n",
    "csv_from_excel()"
   ]
  },
  {
   "cell_type": "code",
   "execution_count": 29,
   "metadata": {},
   "outputs": [],
   "source": [
    "def csv_from_excel():\n",
    "    wb = xlrd.open_workbook('Immunization-estimates-2018.xlsx')\n",
    "    sh = wb.sheet_by_name('HIB3')\n",
    "    HIB3 = open('HIB3.csv', 'w')\n",
    "    wr = csv.writer(HIB3, quoting=csv.QUOTE_ALL)\n",
    "\n",
    "    for rownum in range(sh.nrows):\n",
    "        wr.writerow(sh.row_values(rownum))\n",
    "\n",
    "    HIB3.close()\n",
    "\n",
    "csv_from_excel()"
   ]
  },
  {
   "cell_type": "code",
   "execution_count": 30,
   "metadata": {},
   "outputs": [],
   "source": [
    "def csv_from_excel():\n",
    "    wb = xlrd.open_workbook('Immunization-estimates-2018.xlsx')\n",
    "    sh = wb.sheet_by_name('IPV1')\n",
    "    IPV1 = open('IPV1.csv', 'w')\n",
    "    wr = csv.writer(IPV1, quoting=csv.QUOTE_ALL)\n",
    "\n",
    "    for rownum in range(sh.nrows):\n",
    "        wr.writerow(sh.row_values(rownum))\n",
    "\n",
    "    IPV1.close()\n",
    "\n",
    "csv_from_excel()"
   ]
  },
  {
   "cell_type": "code",
   "execution_count": 31,
   "metadata": {},
   "outputs": [],
   "source": [
    "def csv_from_excel():\n",
    "    wb = xlrd.open_workbook('Immunization-estimates-2018.xlsx')\n",
    "    sh = wb.sheet_by_name('MCV1')\n",
    "    MCV1 = open('MCV1.csv', 'w')\n",
    "    wr = csv.writer(MCV1, quoting=csv.QUOTE_ALL)\n",
    "\n",
    "    for rownum in range(sh.nrows):\n",
    "        wr.writerow(sh.row_values(rownum))\n",
    "\n",
    "    MCV1.close()\n",
    "\n",
    "csv_from_excel()"
   ]
  },
  {
   "cell_type": "code",
   "execution_count": 32,
   "metadata": {},
   "outputs": [],
   "source": [
    "def csv_from_excel():\n",
    "    wb = xlrd.open_workbook('Immunization-estimates-2018.xlsx')\n",
    "    sh = wb.sheet_by_name('MCV2')\n",
    "    MCV2 = open('MCV2.csv', 'w')\n",
    "    wr = csv.writer(MCV2, quoting=csv.QUOTE_ALL)\n",
    "\n",
    "    for rownum in range(sh.nrows):\n",
    "        wr.writerow(sh.row_values(rownum))\n",
    "\n",
    "    MCV2.close()\n",
    "\n",
    "csv_from_excel()"
   ]
  },
  {
   "cell_type": "code",
   "execution_count": 33,
   "metadata": {},
   "outputs": [],
   "source": [
    "def csv_from_excel():\n",
    "    wb = xlrd.open_workbook('Immunization-estimates-2018.xlsx')\n",
    "    sh = wb.sheet_by_name('PCV3')\n",
    "    PCV3 = open('PCV3.csv', 'w')\n",
    "    wr = csv.writer(PCV3, quoting=csv.QUOTE_ALL)\n",
    "\n",
    "    for rownum in range(sh.nrows):\n",
    "        wr.writerow(sh.row_values(rownum))\n",
    "\n",
    "    PCV3.close()\n",
    "\n",
    "csv_from_excel()"
   ]
  },
  {
   "cell_type": "code",
   "execution_count": 34,
   "metadata": {},
   "outputs": [],
   "source": [
    "def csv_from_excel():\n",
    "    wb = xlrd.open_workbook('Immunization-estimates-2018.xlsx')\n",
    "    sh = wb.sheet_by_name('RCV1')\n",
    "    RCV1 = open('RCV1.csv', 'w')\n",
    "    wr = csv.writer(RCV1, quoting=csv.QUOTE_ALL)\n",
    "\n",
    "    for rownum in range(sh.nrows):\n",
    "        wr.writerow(sh.row_values(rownum))\n",
    "\n",
    "    RCV1.close()\n",
    "\n",
    "csv_from_excel()"
   ]
  },
  {
   "cell_type": "code",
   "execution_count": 35,
   "metadata": {},
   "outputs": [],
   "source": [
    "def csv_from_excel():\n",
    "    wb = xlrd.open_workbook('Immunization-estimates-2018.xlsx')\n",
    "    sh = wb.sheet_by_name('ROTAC')\n",
    "    ROTAC = open('ROTAC.csv', 'w')\n",
    "    wr = csv.writer(ROTAC, quoting=csv.QUOTE_ALL)\n",
    "\n",
    "    for rownum in range(sh.nrows):\n",
    "        wr.writerow(sh.row_values(rownum))\n",
    "\n",
    "    ROTAC.close()\n",
    "\n",
    "csv_from_excel()"
   ]
  },
  {
   "cell_type": "code",
   "execution_count": 36,
   "metadata": {},
   "outputs": [],
   "source": [
    "def csv_from_excel():\n",
    "    wb = xlrd.open_workbook('Immunization-estimates-2018.xlsx')\n",
    "    sh = wb.sheet_by_name('YFV')\n",
    "    YFV = open('YFV.csv', 'w')\n",
    "    wr = csv.writer(YFV, quoting=csv.QUOTE_ALL)\n",
    "\n",
    "    for rownum in range(sh.nrows):\n",
    "        wr.writerow(sh.row_values(rownum))\n",
    "\n",
    "    YFV.close()\n",
    "\n",
    "csv_from_excel()"
   ]
  },
  {
   "cell_type": "code",
   "execution_count": 42,
   "metadata": {},
   "outputs": [],
   "source": [
    "def csv_from_excel():\n",
    "    wb = xlrd.open_workbook('Immunization-estimates-2018.xlsx')\n",
    "    sh = wb.sheet_by_name('regional_global')\n",
    "    RegionalGlobal = open('RegionalGlobal.csv', 'w')\n",
    "    wr = csv.writer(RegionalGlobal, quoting=csv.QUOTE_ALL)\n",
    "\n",
    "    for rownum in range(sh.nrows):\n",
    "        wr.writerow(sh.row_values(rownum))\n",
    "\n",
    "    RegionalGlobal.close()\n",
    "\n",
    "csv_from_excel()"
   ]
  },
  {
   "cell_type": "code",
   "execution_count": null,
   "metadata": {},
   "outputs": [],
   "source": []
  }
 ],
 "metadata": {
  "kernelspec": {
   "display_name": "Python 3",
   "language": "python",
   "name": "python3"
  },
  "language_info": {
   "codemirror_mode": {
    "name": "ipython",
    "version": 3
   },
   "file_extension": ".py",
   "mimetype": "text/x-python",
   "name": "python",
   "nbconvert_exporter": "python",
   "pygments_lexer": "ipython3",
   "version": "3.7.3"
  }
 },
 "nbformat": 4,
 "nbformat_minor": 2
}
